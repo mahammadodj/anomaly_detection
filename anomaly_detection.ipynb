{
  "cells": [
    {
      "cell_type": "code",
      "execution_count": 9,
      "metadata": {
        "id": "1dM3hqFpIRAr"
      },
      "outputs": [],
      "source": [
        "import pandas as pd\n",
        "import numpy as np\n",
        "from scipy.stats import shapiro\n",
        "import seaborn as sns\n",
        "import matplotlib.pyplot as plt\n",
        "import plotly.express as px\n",
        "from sklearn.preprocessing import MinMaxScaler\n",
        "from sklearn.preprocessing import StandardScaler\n",
        "import warnings\n",
        "warnings.filterwarnings('ignore')\n",
        "%matplotlib inline"
      ]
    },
    {
      "cell_type": "markdown",
      "source": [
        "# Data uploading"
      ],
      "metadata": {
        "id": "PvpZ_lFLqh37"
      }
    },
    {
      "cell_type": "code",
      "execution_count": 2,
      "metadata": {
        "id": "cDFd319igRA-"
      },
      "outputs": [],
      "source": [
        "df = pd.read_csv('data.csv')"
      ]
    },
    {
      "cell_type": "code",
      "execution_count": 3,
      "metadata": {
        "colab": {
          "base_uri": "https://localhost:8080/"
        },
        "id": "s5I_FpGcjXry",
        "outputId": "dabd3405-e125-4569-b564-4f713a3d2a5d"
      },
      "outputs": [
        {
          "output_type": "stream",
          "name": "stdout",
          "text": [
            "<class 'pandas.core.frame.DataFrame'>\n",
            "RangeIndex: 600000 entries, 0 to 599999\n",
            "Data columns (total 2 columns):\n",
            " #   Column             Non-Null Count   Dtype  \n",
            "---  ------             --------------   -----  \n",
            " 0   Time, seconds      600000 non-null  float64\n",
            " 1   Series values, dB  600000 non-null  int64  \n",
            "dtypes: float64(1), int64(1)\n",
            "memory usage: 9.2 MB\n"
          ]
        }
      ],
      "source": [
        "df.info()"
      ]
    },
    {
      "cell_type": "code",
      "execution_count": 4,
      "metadata": {
        "colab": {
          "base_uri": "https://localhost:8080/"
        },
        "id": "7yNkdh7-iGwe",
        "outputId": "c03c8612-07d3-4ede-bee8-29d2259ed10f"
      },
      "outputs": [
        {
          "output_type": "execute_result",
          "data": {
            "text/plain": [
              "Index(['Time, seconds', 'Series values, dB'], dtype='object')"
            ]
          },
          "metadata": {},
          "execution_count": 4
        }
      ],
      "source": [
        "df.columns"
      ]
    },
    {
      "cell_type": "code",
      "execution_count": 5,
      "metadata": {
        "colab": {
          "base_uri": "https://localhost:8080/"
        },
        "id": "nk2YmxOzNRtx",
        "outputId": "68ced1e1-c6f5-4f87-f214-e92da689d315"
      },
      "outputs": [
        {
          "output_type": "execute_result",
          "data": {
            "text/plain": [
              "(600000, 2)"
            ]
          },
          "metadata": {},
          "execution_count": 5
        }
      ],
      "source": [
        "df.shape"
      ]
    },
    {
      "cell_type": "code",
      "execution_count": 6,
      "metadata": {
        "colab": {
          "base_uri": "https://localhost:8080/",
          "height": 206
        },
        "id": "rzPY77KT8dx1",
        "outputId": "d5a79258-345a-4107-d990-fd5773b3453a"
      },
      "outputs": [
        {
          "output_type": "execute_result",
          "data": {
            "text/plain": [
              "   Time, seconds  Series values, dB\n",
              "0         0.0000               -117\n",
              "1         0.0001                 46\n",
              "2         0.0002               -478\n",
              "3         0.0003                  2\n",
              "4         0.0004                  4"
            ],
            "text/html": [
              "\n",
              "  <div id=\"df-76d99fee-1b45-46c0-b52c-5123538df3dc\">\n",
              "    <div class=\"colab-df-container\">\n",
              "      <div>\n",
              "<style scoped>\n",
              "    .dataframe tbody tr th:only-of-type {\n",
              "        vertical-align: middle;\n",
              "    }\n",
              "\n",
              "    .dataframe tbody tr th {\n",
              "        vertical-align: top;\n",
              "    }\n",
              "\n",
              "    .dataframe thead th {\n",
              "        text-align: right;\n",
              "    }\n",
              "</style>\n",
              "<table border=\"1\" class=\"dataframe\">\n",
              "  <thead>\n",
              "    <tr style=\"text-align: right;\">\n",
              "      <th></th>\n",
              "      <th>Time, seconds</th>\n",
              "      <th>Series values, dB</th>\n",
              "    </tr>\n",
              "  </thead>\n",
              "  <tbody>\n",
              "    <tr>\n",
              "      <th>0</th>\n",
              "      <td>0.0000</td>\n",
              "      <td>-117</td>\n",
              "    </tr>\n",
              "    <tr>\n",
              "      <th>1</th>\n",
              "      <td>0.0001</td>\n",
              "      <td>46</td>\n",
              "    </tr>\n",
              "    <tr>\n",
              "      <th>2</th>\n",
              "      <td>0.0002</td>\n",
              "      <td>-478</td>\n",
              "    </tr>\n",
              "    <tr>\n",
              "      <th>3</th>\n",
              "      <td>0.0003</td>\n",
              "      <td>2</td>\n",
              "    </tr>\n",
              "    <tr>\n",
              "      <th>4</th>\n",
              "      <td>0.0004</td>\n",
              "      <td>4</td>\n",
              "    </tr>\n",
              "  </tbody>\n",
              "</table>\n",
              "</div>\n",
              "      <button class=\"colab-df-convert\" onclick=\"convertToInteractive('df-76d99fee-1b45-46c0-b52c-5123538df3dc')\"\n",
              "              title=\"Convert this dataframe to an interactive table.\"\n",
              "              style=\"display:none;\">\n",
              "        \n",
              "  <svg xmlns=\"http://www.w3.org/2000/svg\" height=\"24px\"viewBox=\"0 0 24 24\"\n",
              "       width=\"24px\">\n",
              "    <path d=\"M0 0h24v24H0V0z\" fill=\"none\"/>\n",
              "    <path d=\"M18.56 5.44l.94 2.06.94-2.06 2.06-.94-2.06-.94-.94-2.06-.94 2.06-2.06.94zm-11 1L8.5 8.5l.94-2.06 2.06-.94-2.06-.94L8.5 2.5l-.94 2.06-2.06.94zm10 10l.94 2.06.94-2.06 2.06-.94-2.06-.94-.94-2.06-.94 2.06-2.06.94z\"/><path d=\"M17.41 7.96l-1.37-1.37c-.4-.4-.92-.59-1.43-.59-.52 0-1.04.2-1.43.59L10.3 9.45l-7.72 7.72c-.78.78-.78 2.05 0 2.83L4 21.41c.39.39.9.59 1.41.59.51 0 1.02-.2 1.41-.59l7.78-7.78 2.81-2.81c.8-.78.8-2.07 0-2.86zM5.41 20L4 18.59l7.72-7.72 1.47 1.35L5.41 20z\"/>\n",
              "  </svg>\n",
              "      </button>\n",
              "      \n",
              "  <style>\n",
              "    .colab-df-container {\n",
              "      display:flex;\n",
              "      flex-wrap:wrap;\n",
              "      gap: 12px;\n",
              "    }\n",
              "\n",
              "    .colab-df-convert {\n",
              "      background-color: #E8F0FE;\n",
              "      border: none;\n",
              "      border-radius: 50%;\n",
              "      cursor: pointer;\n",
              "      display: none;\n",
              "      fill: #1967D2;\n",
              "      height: 32px;\n",
              "      padding: 0 0 0 0;\n",
              "      width: 32px;\n",
              "    }\n",
              "\n",
              "    .colab-df-convert:hover {\n",
              "      background-color: #E2EBFA;\n",
              "      box-shadow: 0px 1px 2px rgba(60, 64, 67, 0.3), 0px 1px 3px 1px rgba(60, 64, 67, 0.15);\n",
              "      fill: #174EA6;\n",
              "    }\n",
              "\n",
              "    [theme=dark] .colab-df-convert {\n",
              "      background-color: #3B4455;\n",
              "      fill: #D2E3FC;\n",
              "    }\n",
              "\n",
              "    [theme=dark] .colab-df-convert:hover {\n",
              "      background-color: #434B5C;\n",
              "      box-shadow: 0px 1px 3px 1px rgba(0, 0, 0, 0.15);\n",
              "      filter: drop-shadow(0px 1px 2px rgba(0, 0, 0, 0.3));\n",
              "      fill: #FFFFFF;\n",
              "    }\n",
              "  </style>\n",
              "\n",
              "      <script>\n",
              "        const buttonEl =\n",
              "          document.querySelector('#df-76d99fee-1b45-46c0-b52c-5123538df3dc button.colab-df-convert');\n",
              "        buttonEl.style.display =\n",
              "          google.colab.kernel.accessAllowed ? 'block' : 'none';\n",
              "\n",
              "        async function convertToInteractive(key) {\n",
              "          const element = document.querySelector('#df-76d99fee-1b45-46c0-b52c-5123538df3dc');\n",
              "          const dataTable =\n",
              "            await google.colab.kernel.invokeFunction('convertToInteractive',\n",
              "                                                     [key], {});\n",
              "          if (!dataTable) return;\n",
              "\n",
              "          const docLinkHtml = 'Like what you see? Visit the ' +\n",
              "            '<a target=\"_blank\" href=https://colab.research.google.com/notebooks/data_table.ipynb>data table notebook</a>'\n",
              "            + ' to learn more about interactive tables.';\n",
              "          element.innerHTML = '';\n",
              "          dataTable['output_type'] = 'display_data';\n",
              "          await google.colab.output.renderOutput(dataTable, element);\n",
              "          const docLink = document.createElement('div');\n",
              "          docLink.innerHTML = docLinkHtml;\n",
              "          element.appendChild(docLink);\n",
              "        }\n",
              "      </script>\n",
              "    </div>\n",
              "  </div>\n",
              "  "
            ]
          },
          "metadata": {},
          "execution_count": 6
        }
      ],
      "source": [
        "df.head()"
      ]
    },
    {
      "cell_type": "code",
      "execution_count": 4,
      "metadata": {
        "colab": {
          "base_uri": "https://localhost:8080/"
        },
        "id": "KTeIEYoHOIAW",
        "outputId": "185c12b2-5cde-441f-9be5-ad98b77e5384"
      },
      "outputs": [
        {
          "output_type": "execute_result",
          "data": {
            "text/plain": [
              "Time    0\n",
              "dB      0\n",
              "dtype: int64"
            ]
          },
          "metadata": {},
          "execution_count": 4
        }
      ],
      "source": [
        "df.isnull().sum()"
      ]
    },
    {
      "cell_type": "code",
      "execution_count": 7,
      "metadata": {
        "id": "b9F2v5dkh_rG"
      },
      "outputs": [],
      "source": [
        "df.rename(columns={'Time, seconds':'Time','Series values, dB':'dB'},inplace=True)"
      ]
    },
    {
      "cell_type": "code",
      "execution_count": null,
      "metadata": {
        "colab": {
          "base_uri": "https://localhost:8080/",
          "height": 282
        },
        "id": "_NyWw35kQ8lJ",
        "outputId": "de9e0b6e-5b25-4639-86e4-891e48437713"
      },
      "outputs": [
        {
          "output_type": "execute_result",
          "data": {
            "text/plain": [
              "[<matplotlib.lines.Line2D at 0x7f66c12cb340>]"
            ]
          },
          "metadata": {},
          "execution_count": 94
        },
        {
          "output_type": "display_data",
          "data": {
            "text/plain": [
              "<Figure size 432x288 with 1 Axes>"
            ],
            "image/png": "[encoded data removed]"
          },
          "metadata": {
            "needs_background": "light"
          }
        }
      ],
      "source": [
        "plt.plot(df['Time'], df['dB'])"
      ]
    },
    {
      "cell_type": "code",
      "execution_count": null,
      "metadata": {
        "colab": {
          "base_uri": "https://localhost:8080/",
          "height": 386
        },
        "id": "BBIRFhy5RJfx",
        "outputId": "96d9d05c-5d63-482f-e9cd-62f6ed7ef35f"
      },
      "outputs": [
        {
          "output_type": "execute_result",
          "data": {
            "text/plain": [
              "<seaborn.axisgrid.FacetGrid at 0x7f66c179b220>"
            ]
          },
          "metadata": {},
          "execution_count": 95
        },
        {
          "output_type": "display_data",
          "data": {
            "text/plain": [
              "<Figure size 360x360 with 1 Axes>"
            ],
            "image/png": "[encoded data removed]"
          },
          "metadata": {
            "needs_background": "light"
          }
        }
      ],
      "source": [
        "sns.displot(df['dB'])"
      ]
    },
    {
      "cell_type": "code",
      "source": [
        "df['dB'].mean()"
      ],
      "metadata": {
        "colab": {
          "base_uri": "https://localhost:8080/"
        },
        "id": "QhFeegJLrK91",
        "outputId": "e8afe413-d5a6-4ad2-8315-ebf76b0ef53a"
      },
      "execution_count": null,
      "outputs": [
        {
          "output_type": "execute_result",
          "data": {
            "text/plain": [
              "0.42299166666666665"
            ]
          },
          "metadata": {},
          "execution_count": 35
        }
      ]
    },
    {
      "cell_type": "code",
      "source": [
        "df['dB'].median()"
      ],
      "metadata": {
        "colab": {
          "base_uri": "https://localhost:8080/"
        },
        "id": "2Vd97i7GrPFO",
        "outputId": "31c8204c-a264-4e6d-9963-09b169c9ba1f"
      },
      "execution_count": null,
      "outputs": [
        {
          "output_type": "execute_result",
          "data": {
            "text/plain": [
              "-1.0"
            ]
          },
          "metadata": {},
          "execution_count": 36
        }
      ]
    },
    {
      "cell_type": "code",
      "source": [
        "df['dB'].std()"
      ],
      "metadata": {
        "colab": {
          "base_uri": "https://localhost:8080/"
        },
        "id": "ziTQbXlXrYdQ",
        "outputId": "5e6428eb-f5fd-452d-ff99-9c85382bf93e"
      },
      "execution_count": null,
      "outputs": [
        {
          "output_type": "execute_result",
          "data": {
            "text/plain": [
              "206.05923793187685"
            ]
          },
          "metadata": {},
          "execution_count": 37
        }
      ]
    },
    {
      "cell_type": "code",
      "execution_count": null,
      "metadata": {
        "colab": {
          "base_uri": "https://localhost:8080/"
        },
        "id": "pGmLHhfsjbrz",
        "outputId": "9be94c85-e3f2-4dc6-d13a-158b7b6bb879"
      },
      "outputs": [
        {
          "output_type": "execute_result",
          "data": {
            "text/plain": [
              "0.562562595900459"
            ]
          },
          "metadata": {},
          "execution_count": 26
        }
      ],
      "source": [
        "df['dB'].skew()"
      ]
    },
    {
      "cell_type": "code",
      "execution_count": null,
      "metadata": {
        "colab": {
          "base_uri": "https://localhost:8080/"
        },
        "id": "gDYBj-efeoSy",
        "outputId": "e6d1d5a1-7359-4677-dc9b-9fb7adde0ed6"
      },
      "outputs": [
        {
          "output_type": "execute_result",
          "data": {
            "text/plain": [
              "16.274066715697536"
            ]
          },
          "metadata": {},
          "execution_count": 27
        }
      ],
      "source": [
        "df['dB'].kurtosis()"
      ]
    },
    {
      "cell_type": "markdown",
      "source": [
        "# Checking Normality"
      ],
      "metadata": {
        "id": "Vqv-ySj_qeeE"
      }
    },
    {
      "cell_type": "markdown",
      "source": [
        "## Q-Q plot"
      ],
      "metadata": {
        "id": "ixNk6-aLrevC"
      }
    },
    {
      "cell_type": "code",
      "source": [
        "import scipy as sp\n",
        "\n",
        "f,ax = plt.subplots()\n",
        "_,(_,_,r)= sp.stats.probplot(df['dB'],plot=ax)\n",
        "ax.set_title('Q-Q Plot')\n",
        "plt.show()"
      ],
      "metadata": {
        "colab": {
          "base_uri": "https://localhost:8080/",
          "height": 295
        },
        "id": "wmWQpqGKqeHE",
        "outputId": "4fa8ef46-e244-44ba-b32b-478a062bdd5d"
      },
      "execution_count": null,
      "outputs": [
        {
          "output_type": "display_data",
          "data": {
            "text/plain": [
              "<Figure size 432x288 with 1 Axes>"
            ],
            "image/png": "[encoded data removed]"
          },
          "metadata": {
            "needs_background": "light"
          }
        }
      ]
    },
    {
      "cell_type": "markdown",
      "source": [
        "## Statistical tests, Shapiro-Wilk and Ktest"
      ],
      "metadata": {
        "id": "QSN8p9HIrhYR"
      }
    },
    {
      "cell_type": "code",
      "source": [
        "from scipy.stats import kstest, norm\n",
        "ks_statistic, p_value = kstest(df['dB'], 'norm')\n",
        "print(ks_statistic, p_value)"
      ],
      "metadata": {
        "colab": {
          "base_uri": "https://localhost:8080/"
        },
        "id": "xYMSzObVqeDs",
        "outputId": "a726c1c2-2f45-4853-da0b-c54c90dfff26"
      },
      "execution_count": null,
      "outputs": [
        {
          "output_type": "stream",
          "name": "stdout",
          "text": [
            "0.49384176863503654 0.0\n"
          ]
        }
      ]
    },
    {
      "cell_type": "code",
      "source": [
        "from scipy.stats import shapiro\n",
        "shapiro(df['dB'])"
      ],
      "metadata": {
        "colab": {
          "base_uri": "https://localhost:8080/"
        },
        "id": "l18VXpEJqeAj",
        "outputId": "5eaecba9-07ff-40dd-d7ed-9e2ca54b0658"
      },
      "execution_count": null,
      "outputs": [
        {
          "output_type": "execute_result",
          "data": {
            "text/plain": [
              "ShapiroResult(statistic=0.881129801273346, pvalue=0.0)"
            ]
          },
          "metadata": {},
          "execution_count": 34
        }
      ]
    },
    {
      "cell_type": "markdown",
      "source": [
        "## Checking with Z score value"
      ],
      "metadata": {
        "id": "-IjeiDeYroWp"
      }
    },
    {
      "cell_type": "code",
      "source": [
        "mean = df['dB'].mean()\n",
        "std = df['dB'].std()\n",
        "\n",
        "upper_bound= mean + 3*std\n",
        "lower_bound= mean - 3*std\n",
        "\n",
        "plt.plot('Time','dB',data=df)\n",
        "plt.axhline(lower_bound,color='r')\n",
        "plt.axhline(upper_bound,color='r')"
      ],
      "metadata": {
        "colab": {
          "base_uri": "https://localhost:8080/",
          "height": 282
        },
        "id": "8KMfJLlxqd9Y",
        "outputId": "3b0b72de-c45d-401a-cf63-bf6180031db0"
      },
      "execution_count": null,
      "outputs": [
        {
          "output_type": "execute_result",
          "data": {
            "text/plain": [
              "<matplotlib.lines.Line2D at 0x7f66c1db1ca0>"
            ]
          },
          "metadata": {},
          "execution_count": 97
        },
        {
          "output_type": "display_data",
          "data": {
            "text/plain": [
              "<Figure size 432x288 with 1 Axes>"
            ],
            "image/png": "[encoded data removed]"
          },
          "metadata": {
            "needs_background": "light"
          }
        }
      ]
    },
    {
      "cell_type": "code",
      "source": [
        "low = np.percentile(df['dB'],0.3)\n",
        "up = np.percentile(df['dB'],99.7)\n",
        "plt.plot('Time','dB',data=df)\n",
        "plt.axhline(low,color='r')\n",
        "plt.axhline(up,color='r')"
      ],
      "metadata": {
        "colab": {
          "base_uri": "https://localhost:8080/",
          "height": 282
        },
        "id": "Tsf4Q95Tqd6N",
        "outputId": "38579949-1623-48ea-f5a1-5a64bf550540"
      },
      "execution_count": null,
      "outputs": [
        {
          "output_type": "execute_result",
          "data": {
            "text/plain": [
              "<matplotlib.lines.Line2D at 0x7f66c03ed040>"
            ]
          },
          "metadata": {},
          "execution_count": 98
        },
        {
          "output_type": "display_data",
          "data": {
            "text/plain": [
              "<Figure size 432x288 with 1 Axes>"
            ],
            "image/png": "[encoded data removed]"
          },
          "metadata": {
            "needs_background": "light"
          }
        }
      ]
    },
    {
      "cell_type": "markdown",
      "source": [
        "In normal distribution, \"mean + 3*std\" should be equal to the 99.7th percentile value, but graphs does not match. It means data is not normal distributed."
      ],
      "metadata": {
        "id": "1o6lXtfmsRIZ"
      }
    },
    {
      "cell_type": "markdown",
      "source": [
        "# Anomaly detection with statistical threshold"
      ],
      "metadata": {
        "id": "K8yjJZ0zsvtP"
      }
    },
    {
      "cell_type": "code",
      "source": [
        "low = np.percentile(df['dB'],0.2)\n",
        "upper = np.percentile(df['dB'],99.7)\n",
        "\n",
        "plt.plot('Time','dB',data=df)\n",
        "plt.axhline(low,color='r')\n",
        "plt.axhline(upper,color='r')"
      ],
      "metadata": {
        "colab": {
          "base_uri": "https://localhost:8080/",
          "height": 282
        },
        "id": "WmNHHal2svMl",
        "outputId": "91bd2b28-f95c-444a-ebd3-31bc644bba66"
      },
      "execution_count": null,
      "outputs": [
        {
          "output_type": "execute_result",
          "data": {
            "text/plain": [
              "<matplotlib.lines.Line2D at 0x7f66bff56f10>"
            ]
          },
          "metadata": {},
          "execution_count": 88
        },
        {
          "output_type": "display_data",
          "data": {
            "text/plain": [
              "<Figure size 432x288 with 1 Axes>"
            ],
            "image/png": "[encoded data removed]"
          },
          "metadata": {
            "needs_background": "light"
          }
        }
      ]
    },
    {
      "cell_type": "code",
      "source": [
        "q1, q3 = np.percentile(df['dB'],[25,75])\n",
        "IQR = q3-q1\n",
        "low = q1 - IQR*1.5\n",
        "up = q3 + 1.5*IQR"
      ],
      "metadata": {
        "id": "SaLsHRKrtY6x"
      },
      "execution_count": null,
      "outputs": []
    },
    {
      "cell_type": "code",
      "source": [
        "plt.plot('Time','dB',data=df)\n",
        "plt.axhline(low,color='r')\n",
        "plt.axhline(up,color='r')"
      ],
      "metadata": {
        "colab": {
          "base_uri": "https://localhost:8080/",
          "height": 282
        },
        "id": "ABZcruuptY3u",
        "outputId": "181f04b3-bbfe-4b78-9d1e-a5ec60fcd2b2"
      },
      "execution_count": null,
      "outputs": [
        {
          "output_type": "execute_result",
          "data": {
            "text/plain": [
              "<matplotlib.lines.Line2D at 0x7faa9a6f5be0>"
            ]
          },
          "metadata": {},
          "execution_count": 13
        },
        {
          "output_type": "display_data",
          "data": {
            "text/plain": [
              "<Figure size 432x288 with 1 Axes>"
            ],
            "image/png": "[encoded data removed]"
          },
          "metadata": {
            "needs_background": "light"
          }
        }
      ]
    },
    {
      "cell_type": "markdown",
      "source": [
        "IQR method gives lower threshold for anomalies. Thus, i will apply moving average to denoise data."
      ],
      "metadata": {
        "id": "seZRN17ttftX"
      }
    },
    {
      "cell_type": "code",
      "source": [
        "data = df.copy()\n",
        "ma = 10\n",
        "data['dB'] = data['dB'].rolling(ma).mean()\n",
        "data = data.loc[ma:,:]\n",
        "q1, q3 = np.percentile(data['dB'],[25,75])\n",
        "IQR = q3-q1\n",
        "low = q1 - IQR*1.5\n",
        "up = q3 + 1.5*IQR"
      ],
      "metadata": {
        "id": "wPglloovtYzE"
      },
      "execution_count": null,
      "outputs": []
    },
    {
      "cell_type": "code",
      "source": [
        "plt.plot('Time','dB',data=data)\n",
        "plt.axhline(low,color='r')\n",
        "plt.axhline(up,color='r')"
      ],
      "metadata": {
        "colab": {
          "base_uri": "https://localhost:8080/",
          "height": 282
        },
        "id": "wZSR8VEPt2-L",
        "outputId": "519bb8c7-78d2-40d9-c5f6-931e9f1a9d43"
      },
      "execution_count": null,
      "outputs": [
        {
          "output_type": "execute_result",
          "data": {
            "text/plain": [
              "<matplotlib.lines.Line2D at 0x7faa97a794f0>"
            ]
          },
          "metadata": {},
          "execution_count": 37
        },
        {
          "output_type": "display_data",
          "data": {
            "text/plain": [
              "<Figure size 432x288 with 1 Axes>"
            ],
            "image/png": "[encoded data removed]"
          },
          "metadata": {
            "needs_background": "light"
          }
        }
      ]
    },
    {
      "cell_type": "markdown",
      "source": [
        "# Isolation Forest"
      ],
      "metadata": {
        "id": "dz-CBpPgukRL"
      }
    },
    {
      "cell_type": "code",
      "source": [
        "from sklearn.ensemble import IsolationForest\n",
        "from sklearn.preprocessing import StandardScaler"
      ],
      "metadata": {
        "id": "DKROx1Z1WOFY"
      },
      "execution_count": 8,
      "outputs": []
    },
    {
      "cell_type": "code",
      "execution_count": null,
      "metadata": {
        "colab": {
          "base_uri": "https://localhost:8080/"
        },
        "id": "nBnUCn1vC832",
        "outputId": "2b99e6eb-a344-4c25-b450-0fb72d79186f"
      },
      "outputs": [
        {
          "output_type": "stream",
          "name": "stdout",
          "text": [
            "0    594070\n",
            "1      5930\n",
            "Name: anomaly25, dtype: int64\n"
          ]
        }
      ],
      "source": [
        "# Extract the feature matrix from the DataFrame\n",
        "standard_scaler = StandardScaler()\n",
        "np_scaled = standard_scaler.fit_transform(df[['dB']])\n",
        "X = pd.DataFrame(np_scaled)\n",
        "# Initialize the Isolation Forest model with some hyperparameters\n",
        "model = IsolationForest(n_estimators=100, max_samples='auto', contamination=0.01, random_state=42)\n",
        "\n",
        "# Fit the model to the data\n",
        "model.fit(X)\n",
        "\n",
        "# Use the model to predict which data points are anomalies\n",
        "df['anomaly25'] = pd.Series(model.predict(X))\n",
        "df['anomaly25'] = df['anomaly25'].map( {1: 0, -1: 1} )\n",
        "print(df['anomaly25'].value_counts())"
      ]
    },
    {
      "cell_type": "code",
      "execution_count": null,
      "metadata": {
        "colab": {
          "base_uri": "https://localhost:8080/"
        },
        "id": "QX2S2zROC8sJ",
        "outputId": "73e10eb0-a317-4c89-8b85-0a95674357cf"
      },
      "outputs": [
        {
          "output_type": "display_data",
          "data": {
            "text/plain": [
              "<Figure size 432x288 with 1 Axes>"
            ],
            "image/png": "[encoded data removed]"
          },
          "metadata": {
            "needs_background": "light"
          }
        }
      ],
      "source": [
        "fig, ax = plt.subplots()\n",
        "\n",
        "a = df.loc[df['anomaly25'] == 1, ['Time', 'dB']] #anomaly\n",
        "\n",
        "ax.plot(df['Time'], df['dB'], color='blue')\n",
        "ax.scatter(a['Time'],a['dB'], color='red')\n",
        "plt.show()"
      ]
    },
    {
      "cell_type": "code",
      "source": [
        "data = df.copy()\n",
        "ma = 10\n",
        "data['dB'] = data['dB'].rolling(ma).mean()\n",
        "data = data.loc[ma:,:]"
      ],
      "metadata": {
        "id": "54Jusk9rvbZY"
      },
      "execution_count": 6,
      "outputs": []
    },
    {
      "cell_type": "code",
      "execution_count": 11,
      "metadata": {
        "colab": {
          "base_uri": "https://localhost:8080/"
        },
        "id": "f07g2LoWNQE0",
        "outputId": "7258c84e-82ae-47ec-c959-d7fad97378e4"
      },
      "outputs": [
        {
          "output_type": "stream",
          "name": "stdout",
          "text": [
            "0.0    593411\n",
            "1.0      6569\n",
            "Name: anomaly25, dtype: int64\n"
          ]
        }
      ],
      "source": [
        "# min_max_scaler = MinMaxScaler()\n",
        "# np_scaled = min_max_scaler.fit_transform(data[['dB']])\n",
        "# X = pd.DataFrame(np_scaled)\n",
        "# Initialize the Isolation Forest model with some hyperparameters\n",
        "model = IsolationForest(n_estimators=100, max_samples='auto', contamination=0.011, random_state=42)\n",
        "\n",
        "# Fit the model to the data\n",
        "model.fit(data[['dB']])\n",
        "\n",
        "# Use the model to predict which data points are anomalies\n",
        "data['anomaly25'] = pd.Series(model.predict(data[['dB']]))\n",
        "data['anomaly25'] = data['anomaly25'].map( {1: 0, -1: 1} )\n",
        "print(data['anomaly25'].value_counts())"
      ]
    },
    {
      "cell_type": "code",
      "execution_count": null,
      "metadata": {
        "colab": {
          "base_uri": "https://localhost:8080/",
          "height": 265
        },
        "id": "vjJHWP0zC8pH",
        "outputId": "eee8fc48-c6de-413c-9913-719aa15a8e6a"
      },
      "outputs": [
        {
          "output_type": "display_data",
          "data": {
            "text/plain": [
              "<Figure size 432x288 with 1 Axes>"
            ],
            "image/png": "[encoded data removed]"
          },
          "metadata": {
            "needs_background": "light"
          }
        }
      ],
      "source": [
        "fig, ax = plt.subplots()\n",
        "\n",
        "a = data.loc[data['anomaly25'] == 1, ['Time', 'dB']] #anomaly\n",
        "\n",
        "ax.plot(data['Time'], data['dB'], color='blue')\n",
        "ax.scatter(a['Time'],a['dB'], color='red')\n",
        "plt.show()"
      ]
    },
    {
      "cell_type": "code",
      "source": [
        "fig, ax = plt.subplots()\n",
        "\n",
        "a = data.loc[data['anomaly25'] == 1, ['Time', 'dB']] #anomaly\n",
        "\n",
        "ax.plot(data['Time'], data['dB'], color='blue')\n",
        "ax.scatter(a['Time'],a['dB'], color='red')\n",
        "plt.show()"
      ],
      "metadata": {
        "colab": {
          "base_uri": "https://localhost:8080/",
          "height": 265
        },
        "id": "yw44WWiNWiIY",
        "outputId": "6e28c7ee-7afb-46d9-8a06-d62c476df633"
      },
      "execution_count": 12,
      "outputs": [
        {
          "output_type": "display_data",
          "data": {
            "text/plain": [
              "<Figure size 432x288 with 1 Axes>"
            ],
            "image/png": "[encoded data removed]"
          },
          "metadata": {
            "needs_background": "light"
          }
        }
      ]
    },
    {
      "cell_type": "markdown",
      "metadata": {
        "id": "QKbXvcJtZH7u"
      },
      "source": [
        "# Autoencoder"
      ]
    },
    {
      "cell_type": "code",
      "execution_count": null,
      "metadata": {
        "id": "G_3VZ-tna8n1"
      },
      "outputs": [],
      "source": [
        "df1 = df.copy()"
      ]
    },
    {
      "cell_type": "code",
      "execution_count": null,
      "metadata": {
        "id": "JEKiqBOCJv9p"
      },
      "outputs": [],
      "source": [
        "df1 = df1[df1['Time']<10]"
      ]
    },
    {
      "cell_type": "code",
      "execution_count": null,
      "metadata": {
        "colab": {
          "base_uri": "https://localhost:8080/",
          "height": 282
        },
        "id": "d00PfE1mZ-so",
        "outputId": "5baf93fe-9749-4165-b604-30075b4e4484"
      },
      "outputs": [
        {
          "output_type": "execute_result",
          "data": {
            "text/plain": [
              "[<matplotlib.lines.Line2D at 0x7f66c0526220>]"
            ]
          },
          "metadata": {},
          "execution_count": 103
        },
        {
          "output_type": "display_data",
          "data": {
            "text/plain": [
              "<Figure size 432x288 with 1 Axes>"
            ],
            "image/png": "[encoded data removed]"
          },
          "metadata": {
            "needs_background": "light"
          }
        }
      ],
      "source": [
        "plt.plot(df1['Time'],df1['dB'])"
      ]
    },
    {
      "cell_type": "code",
      "execution_count": 18,
      "metadata": {
        "colab": {
          "base_uri": "https://localhost:8080/",
          "height": 1000
        },
        "id": "_2STl_26e3BB",
        "outputId": "5c82333e-7223-4290-f042-c90d0fbd032a"
      },
      "outputs": [
        {
          "output_type": "stream",
          "name": "stderr",
          "text": [
            "WARNING:tensorflow:Layer lstm_4 will not use cuDNN kernels since it doesn't meet the criteria. It will use a generic GPU kernel as fallback when running on GPU.\n",
            "WARNING:tensorflow:Layer lstm_5 will not use cuDNN kernels since it doesn't meet the criteria. It will use a generic GPU kernel as fallback when running on GPU.\n",
            "WARNING:tensorflow:Layer lstm_6 will not use cuDNN kernels since it doesn't meet the criteria. It will use a generic GPU kernel as fallback when running on GPU.\n",
            "WARNING:tensorflow:Layer lstm_7 will not use cuDNN kernels since it doesn't meet the criteria. It will use a generic GPU kernel as fallback when running on GPU.\n"
          ]
        },
        {
          "output_type": "stream",
          "name": "stdout",
          "text": [
            "Model: \"sequential_1\"\n",
            "_________________________________________________________________\n",
            " Layer (type)                Output Shape              Param #   \n",
            "=================================================================\n",
            " lstm_4 (LSTM)               (None, 10, 128)           66560     \n",
            "                                                                 \n",
            " lstm_5 (LSTM)               (None, 64)                49408     \n",
            "                                                                 \n",
            " repeat_vector_1 (RepeatVect  (None, 10, 64)           0         \n",
            " or)                                                             \n",
            "                                                                 \n",
            " lstm_6 (LSTM)               (None, 10, 64)            33024     \n",
            "                                                                 \n",
            " lstm_7 (LSTM)               (None, 10, 128)           98816     \n",
            "                                                                 \n",
            " time_distributed_1 (TimeDis  (None, 10, 1)            129       \n",
            " tributed)                                                       \n",
            "                                                                 \n",
            "=================================================================\n",
            "Total params: 247,937\n",
            "Trainable params: 247,937\n",
            "Non-trainable params: 0\n",
            "_________________________________________________________________\n",
            "Epoch 1/10\n",
            "2813/2813 [==============================] - 203s 71ms/step - loss: 1.0053 - val_loss: 0.9421\n",
            "Epoch 2/10\n",
            "2813/2813 [==============================] - 197s 70ms/step - loss: 1.0052 - val_loss: 0.9387\n",
            "Epoch 3/10\n",
            "2813/2813 [==============================] - 197s 70ms/step - loss: 1.0051 - val_loss: 0.9370\n",
            "Epoch 4/10\n",
            "2813/2813 [==============================] - 198s 70ms/step - loss: 1.0051 - val_loss: 0.9361\n",
            "Epoch 5/10\n",
            "2813/2813 [==============================] - 197s 70ms/step - loss: 1.0051 - val_loss: 0.9341\n",
            "Epoch 6/10\n",
            "2813/2813 [==============================] - 195s 69ms/step - loss: 1.0052 - val_loss: 0.9368\n",
            "Epoch 7/10\n",
            "2813/2813 [==============================] - 196s 70ms/step - loss: 1.0051 - val_loss: 0.9351\n",
            "Epoch 8/10\n",
            "2813/2813 [==============================] - 195s 69ms/step - loss: 1.0051 - val_loss: 0.9337\n",
            "Epoch 9/10\n",
            "2813/2813 [==============================] - 195s 69ms/step - loss: 1.0051 - val_loss: 0.9299\n",
            "Epoch 10/10\n",
            "2813/2813 [==============================] - 196s 70ms/step - loss: 1.0050 - val_loss: 0.9344\n",
            "15625/15625 [==============================] - 117s 7ms/step - loss: 1.5117\n"
          ]
        },
        {
          "output_type": "execute_result",
          "data": {
            "text/plain": [
              "1.511690616607666"
            ]
          },
          "metadata": {},
          "execution_count": 18
        },
        {
          "output_type": "display_data",
          "data": {
            "text/plain": [
              "<Figure size 432x288 with 1 Axes>"
            ],
            "image/png": "[encoded data removed]"
          },
          "metadata": {
            "needs_background": "light"
          }
        }
      ],
      "source": [
        "from keras.models import Sequential\n",
        "from keras.layers import LSTM, Input, Dropout\n",
        "from keras.layers import Dense\n",
        "from keras.layers import RepeatVector\n",
        "from keras.layers import TimeDistributed\n",
        "from matplotlib import pyplot as plt\n",
        "from keras.models import Model\n",
        "\n",
        "#Change train data for 5 seconds\n",
        "train, test = df.loc[df['Time'] <= 10], df.loc[df['Time'] > 10]\n",
        "\n",
        "scaler = StandardScaler()\n",
        "scaler = scaler.fit(train[['dB']])\n",
        "\n",
        "train['dB'] = scaler.transform(train[['dB']])\n",
        "test['dB'] = scaler.transform(test[['dB']])\n",
        "\n",
        "\n",
        "seq_size = 10  # Number of time steps to look back \n",
        "#Larger sequences (look further back) may improve forecasting.\n",
        "\n",
        "\n",
        "def to_sequences(x, y, seq_size=1):\n",
        "    x_values = []\n",
        "    y_values = []\n",
        "\n",
        "    for i in range(len(x)-seq_size):\n",
        "        #print(i)\n",
        "        x_values.append(x.iloc[i:(i+seq_size)].values)\n",
        "        y_values.append(y.iloc[i+seq_size])\n",
        "        \n",
        "    return np.array(x_values), np.array(y_values)\n",
        "\n",
        "trainX, trainY = to_sequences(train[['dB']], train['dB'], seq_size)\n",
        "testX, testY = to_sequences(test[['dB']], test['dB'], seq_size)\n",
        "\n",
        "\n",
        "# define Autoencoder model\n",
        "#Input shape would be seq_size, 1 - 1 beacuse we have 1 feature. \n",
        "seq_size = trainX.shape[1]\n",
        "\n",
        "model = Sequential()\n",
        "model.add(LSTM(128, activation='relu', input_shape=(trainX.shape[1], trainX.shape[2]), return_sequences=True))\n",
        "model.add(LSTM(64, activation='relu', return_sequences=False))\n",
        "model.add(RepeatVector(trainX.shape[1]))\n",
        "model.add(LSTM(64, activation='relu', return_sequences=True))\n",
        "model.add(LSTM(128, activation='relu', return_sequences=True))\n",
        "model.add(TimeDistributed(Dense(trainX.shape[2])))\n",
        "\n",
        "model.compile(optimizer='adam', loss='mse')\n",
        "model.summary()\n",
        "\n",
        "#Try another model\n",
        "# model = Sequential()\n",
        "# model.add(LSTM(128, input_shape=(trainX.shape[1], trainX.shape[2])))\n",
        "# model.add(Dropout(rate=0.2))\n",
        "\n",
        "# model.add(RepeatVector(trainX.shape[1]))\n",
        "\n",
        "# model.add(LSTM(128, return_sequences=True))\n",
        "# model.add(Dropout(rate=0.2))\n",
        "# model.add(TimeDistributed(Dense(trainX.shape[2])))\n",
        "# model.compile(optimizer='adam', loss='mae')\n",
        "# model.summary()\n",
        "\n",
        "# fit model\n",
        "history = model.fit(trainX, trainY, epochs=10, batch_size=32, validation_split=0.1, verbose=1)\n",
        "\n",
        "plt.plot(history.history['loss'], label='Training loss')\n",
        "plt.plot(history.history['val_loss'], label='Validation loss')\n",
        "plt.legend()\n",
        "\n",
        "model.evaluate(testX, testY)\n"
      ]
    },
    {
      "cell_type": "code",
      "execution_count": 19,
      "metadata": {
        "colab": {
          "base_uri": "https://localhost:8080/",
          "height": 525
        },
        "id": "3CCkbk4vjQw2",
        "outputId": "58d340aa-235d-4a97-fbf5-5f4501d697a5"
      },
      "outputs": [
        {
          "output_type": "stream",
          "name": "stdout",
          "text": [
            "3125/3125 [==============================] - 24s 8ms/step\n"
          ]
        },
        {
          "output_type": "execute_result",
          "data": {
            "text/plain": [
              "(array([4.8500e+02, 3.8930e+03, 9.7780e+03, 1.3952e+04, 1.5154e+04,\n",
              "        1.3436e+04, 1.1055e+04, 8.5640e+03, 6.4730e+03, 4.8520e+03,\n",
              "        3.5150e+03, 2.6180e+03, 1.8730e+03, 1.2710e+03, 9.3400e+02,\n",
              "        7.0600e+02, 4.7800e+02, 3.4200e+02, 2.5300e+02, 1.4300e+02,\n",
              "        7.1000e+01, 5.6000e+01, 3.1000e+01, 1.2000e+01, 9.0000e+00,\n",
              "        5.0000e+00, 9.0000e+00, 8.0000e+00, 9.0000e+00, 5.0000e+00]),\n",
              " array([0.13694012, 0.24141667, 0.34589322, 0.45036977, 0.55484632,\n",
              "        0.65932287, 0.76379942, 0.86827597, 0.97275252, 1.07722907,\n",
              "        1.18170562, 1.28618217, 1.39065873, 1.49513528, 1.59961183,\n",
              "        1.70408838, 1.80856493, 1.91304148, 2.01751803, 2.12199458,\n",
              "        2.22647113, 2.33094768, 2.43542423, 2.53990078, 2.64437733,\n",
              "        2.74885388, 2.85333043, 2.95780698, 3.06228353, 3.16676008,\n",
              "        3.27123663]),\n",
              " <a list of 30 Patch objects>)"
            ]
          },
          "metadata": {},
          "execution_count": 19
        },
        {
          "output_type": "display_data",
          "data": {
            "text/plain": [
              "<Figure size 432x288 with 1 Axes>"
            ],
            "image/png": "[encoded data removed]"
          },
          "metadata": {
            "needs_background": "light"
          }
        }
      ],
      "source": [
        "#Anomaly is where reconstruction error is large.\n",
        "#We can define this value beyond which we call anomaly.\n",
        "#Let us look at MAE in training prediction\n",
        "\n",
        "trainPredict = model.predict(trainX)\n",
        "trainMAE = np.mean(np.abs(trainPredict - trainX), axis=1)\n",
        "plt.hist(trainMAE, bins=30)"
      ]
    },
    {
      "cell_type": "code",
      "source": [
        "max_trainMAE = 3\n",
        "testPredict = model.predict(testX)\n",
        "testMAE = np.mean(np.abs(testPredict - testX), axis=1)\n",
        "plt.hist(testMAE, bins=30)"
      ],
      "metadata": {
        "colab": {
          "base_uri": "https://localhost:8080/",
          "height": 525
        },
        "id": "5kb4fu9J38pu",
        "outputId": "a288d205-3f46-4451-f478-f13c961a3d5f"
      },
      "execution_count": 20,
      "outputs": [
        {
          "output_type": "stream",
          "name": "stdout",
          "text": [
            "15625/15625 [==============================] - 112s 7ms/step\n"
          ]
        },
        {
          "output_type": "execute_result",
          "data": {
            "text/plain": [
              "(array([1.40669e+05, 2.37830e+05, 8.15910e+04, 2.42090e+04, 6.39200e+03,\n",
              "        1.89000e+03, 9.17000e+02, 9.02000e+02, 6.59000e+02, 4.57000e+02,\n",
              "        4.64000e+02, 3.94000e+02, 3.00000e+02, 3.08000e+02, 3.63000e+02,\n",
              "        4.54000e+02, 2.65000e+02, 2.57000e+02, 3.53000e+02, 2.39000e+02,\n",
              "        1.54000e+02, 1.19000e+02, 1.16000e+02, 1.84000e+02, 1.38000e+02,\n",
              "        1.49000e+02, 1.14000e+02, 4.60000e+01, 3.90000e+01, 1.80000e+01]),\n",
              " array([ 0.08876425,  0.52011199,  0.95145972,  1.38280746,  1.8141552 ,\n",
              "         2.24550294,  2.67685068,  3.10819842,  3.53954616,  3.9708939 ,\n",
              "         4.40224163,  4.83358937,  5.26493711,  5.69628485,  6.12763259,\n",
              "         6.55898033,  6.99032807,  7.42167581,  7.85302354,  8.28437128,\n",
              "         8.71571902,  9.14706676,  9.5784145 , 10.00976224, 10.44110998,\n",
              "        10.87245772, 11.30380545, 11.73515319, 12.16650093, 12.59784867,\n",
              "        13.02919641]),\n",
              " <a list of 30 Patch objects>)"
            ]
          },
          "metadata": {},
          "execution_count": 20
        },
        {
          "output_type": "display_data",
          "data": {
            "text/plain": [
              "<Figure size 432x288 with 1 Axes>"
            ],
            "image/png": "[encoded data removed]"
          },
          "metadata": {
            "needs_background": "light"
          }
        }
      ]
    },
    {
      "cell_type": "code",
      "execution_count": 21,
      "metadata": {
        "colab": {
          "base_uri": "https://localhost:8080/",
          "height": 279
        },
        "id": "ncgngDD8uKiX",
        "outputId": "5a3248f8-17f2-426b-a2a8-c03b875e5405"
      },
      "outputs": [
        {
          "output_type": "display_data",
          "data": {
            "text/plain": [
              "<Figure size 432x288 with 1 Axes>"
            ],
            "image/png": "[encoded data removed]"
          },
          "metadata": {
            "needs_background": "light"
          }
        }
      ],
      "source": [
        "#Capture all details in a DataFrame for easy plotting\n",
        "anomaly_df = pd.DataFrame(test[seq_size:])\n",
        "anomaly_df['testMAE'] = testMAE\n",
        "anomaly_df['max_trainMAE'] = max_trainMAE\n",
        "anomaly_df['anomaly'] = anomaly_df['testMAE'] > anomaly_df['max_trainMAE']\n",
        "anomaly_df['dB'] = test[seq_size:]['dB']\n",
        "\n",
        "#Plot testMAE vs max_trainMAE\n",
        "sns.lineplot(x=anomaly_df['Time'], y=anomaly_df['testMAE'])\n",
        "sns.lineplot(x=anomaly_df['Time'], y=anomaly_df['max_trainMAE'])\n",
        "\n",
        "anomalies = anomaly_df.loc[anomaly_df['anomaly'] == True]"
      ]
    },
    {
      "cell_type": "code",
      "execution_count": 15,
      "metadata": {
        "colab": {
          "base_uri": "https://localhost:8080/",
          "height": 282
        },
        "id": "ZGLzqjA5ymhk",
        "outputId": "62878ecc-ef39-4138-bffc-d2d03cd52849"
      },
      "outputs": [
        {
          "output_type": "execute_result",
          "data": {
            "text/plain": [
              "<matplotlib.collections.PathCollection at 0x7fcb76e4bdc0>"
            ]
          },
          "metadata": {},
          "execution_count": 15
        },
        {
          "output_type": "display_data",
          "data": {
            "text/plain": [
              "<Figure size 432x288 with 1 Axes>"
            ],
            "image/png": "[encoded data removed]"
          },
          "metadata": {
            "needs_background": "light"
          }
        }
      ],
      "source": [
        "#Plot anomalies\n",
        "plt.plot(anomaly_df['Time'], scaler.inverse_transform(anomaly_df[['dB']]))\n",
        "plt.scatter(x=anomalies['Time'], y=scaler.inverse_transform(anomalies[['dB']]), color='r')"
      ]
    },
    {
      "cell_type": "code",
      "execution_count": null,
      "metadata": {
        "colab": {
          "base_uri": "https://localhost:8080/",
          "height": 206
        },
        "id": "ctPY8A304Ami",
        "outputId": "a19210e1-509a-454a-df8f-268967584318"
      },
      "outputs": [
        {
          "output_type": "execute_result",
          "data": {
            "text/plain": [
              "           Time        dB  anomaly25   testMAE  max_trainMAE  anomaly\n",
              "56581  5.658109  2.802685          0  3.090273             3     True\n",
              "56582  5.658209  3.774043          1  3.144079             3     True\n",
              "56583  5.658309  3.038166          0  3.195203             3     True\n",
              "56584  5.658409  2.284628          0  3.191997             3     True\n",
              "56585  5.658509  2.137452          0  3.151717             3     True"
            ],
            "text/html": [
              "\n",
              "  <div id=\"df-cc819924-db27-4f36-8b32-20b6c0a96767\">\n",
              "    <div class=\"colab-df-container\">\n",
              "      <div>\n",
              "<style scoped>\n",
              "    .dataframe tbody tr th:only-of-type {\n",
              "        vertical-align: middle;\n",
              "    }\n",
              "\n",
              "    .dataframe tbody tr th {\n",
              "        vertical-align: top;\n",
              "    }\n",
              "\n",
              "    .dataframe thead th {\n",
              "        text-align: right;\n",
              "    }\n",
              "</style>\n",
              "<table border=\"1\" class=\"dataframe\">\n",
              "  <thead>\n",
              "    <tr style=\"text-align: right;\">\n",
              "      <th></th>\n",
              "      <th>Time</th>\n",
              "      <th>dB</th>\n",
              "      <th>anomaly25</th>\n",
              "      <th>testMAE</th>\n",
              "      <th>max_trainMAE</th>\n",
              "      <th>anomaly</th>\n",
              "    </tr>\n",
              "  </thead>\n",
              "  <tbody>\n",
              "    <tr>\n",
              "      <th>56581</th>\n",
              "      <td>5.658109</td>\n",
              "      <td>2.802685</td>\n",
              "      <td>0</td>\n",
              "      <td>3.090273</td>\n",
              "      <td>3</td>\n",
              "      <td>True</td>\n",
              "    </tr>\n",
              "    <tr>\n",
              "      <th>56582</th>\n",
              "      <td>5.658209</td>\n",
              "      <td>3.774043</td>\n",
              "      <td>1</td>\n",
              "      <td>3.144079</td>\n",
              "      <td>3</td>\n",
              "      <td>True</td>\n",
              "    </tr>\n",
              "    <tr>\n",
              "      <th>56583</th>\n",
              "      <td>5.658309</td>\n",
              "      <td>3.038166</td>\n",
              "      <td>0</td>\n",
              "      <td>3.195203</td>\n",
              "      <td>3</td>\n",
              "      <td>True</td>\n",
              "    </tr>\n",
              "    <tr>\n",
              "      <th>56584</th>\n",
              "      <td>5.658409</td>\n",
              "      <td>2.284628</td>\n",
              "      <td>0</td>\n",
              "      <td>3.191997</td>\n",
              "      <td>3</td>\n",
              "      <td>True</td>\n",
              "    </tr>\n",
              "    <tr>\n",
              "      <th>56585</th>\n",
              "      <td>5.658509</td>\n",
              "      <td>2.137452</td>\n",
              "      <td>0</td>\n",
              "      <td>3.151717</td>\n",
              "      <td>3</td>\n",
              "      <td>True</td>\n",
              "    </tr>\n",
              "  </tbody>\n",
              "</table>\n",
              "</div>\n",
              "      <button class=\"colab-df-convert\" onclick=\"convertToInteractive('df-cc819924-db27-4f36-8b32-20b6c0a96767')\"\n",
              "              title=\"Convert this dataframe to an interactive table.\"\n",
              "              style=\"display:none;\">\n",
              "        \n",
              "  <svg xmlns=\"http://www.w3.org/2000/svg\" height=\"24px\"viewBox=\"0 0 24 24\"\n",
              "       width=\"24px\">\n",
              "    <path d=\"M0 0h24v24H0V0z\" fill=\"none\"/>\n",
              "    <path d=\"M18.56 5.44l.94 2.06.94-2.06 2.06-.94-2.06-.94-.94-2.06-.94 2.06-2.06.94zm-11 1L8.5 8.5l.94-2.06 2.06-.94-2.06-.94L8.5 2.5l-.94 2.06-2.06.94zm10 10l.94 2.06.94-2.06 2.06-.94-2.06-.94-.94-2.06-.94 2.06-2.06.94z\"/><path d=\"M17.41 7.96l-1.37-1.37c-.4-.4-.92-.59-1.43-.59-.52 0-1.04.2-1.43.59L10.3 9.45l-7.72 7.72c-.78.78-.78 2.05 0 2.83L4 21.41c.39.39.9.59 1.41.59.51 0 1.02-.2 1.41-.59l7.78-7.78 2.81-2.81c.8-.78.8-2.07 0-2.86zM5.41 20L4 18.59l7.72-7.72 1.47 1.35L5.41 20z\"/>\n",
              "  </svg>\n",
              "      </button>\n",
              "      \n",
              "  <style>\n",
              "    .colab-df-container {\n",
              "      display:flex;\n",
              "      flex-wrap:wrap;\n",
              "      gap: 12px;\n",
              "    }\n",
              "\n",
              "    .colab-df-convert {\n",
              "      background-color: #E8F0FE;\n",
              "      border: none;\n",
              "      border-radius: 50%;\n",
              "      cursor: pointer;\n",
              "      display: none;\n",
              "      fill: #1967D2;\n",
              "      height: 32px;\n",
              "      padding: 0 0 0 0;\n",
              "      width: 32px;\n",
              "    }\n",
              "\n",
              "    .colab-df-convert:hover {\n",
              "      background-color: #E2EBFA;\n",
              "      box-shadow: 0px 1px 2px rgba(60, 64, 67, 0.3), 0px 1px 3px 1px rgba(60, 64, 67, 0.15);\n",
              "      fill: #174EA6;\n",
              "    }\n",
              "\n",
              "    [theme=dark] .colab-df-convert {\n",
              "      background-color: #3B4455;\n",
              "      fill: #D2E3FC;\n",
              "    }\n",
              "\n",
              "    [theme=dark] .colab-df-convert:hover {\n",
              "      background-color: #434B5C;\n",
              "      box-shadow: 0px 1px 3px 1px rgba(0, 0, 0, 0.15);\n",
              "      filter: drop-shadow(0px 1px 2px rgba(0, 0, 0, 0.3));\n",
              "      fill: #FFFFFF;\n",
              "    }\n",
              "  </style>\n",
              "\n",
              "      <script>\n",
              "        const buttonEl =\n",
              "          document.querySelector('#df-cc819924-db27-4f36-8b32-20b6c0a96767 button.colab-df-convert');\n",
              "        buttonEl.style.display =\n",
              "          google.colab.kernel.accessAllowed ? 'block' : 'none';\n",
              "\n",
              "        async function convertToInteractive(key) {\n",
              "          const element = document.querySelector('#df-cc819924-db27-4f36-8b32-20b6c0a96767');\n",
              "          const dataTable =\n",
              "            await google.colab.kernel.invokeFunction('convertToInteractive',\n",
              "                                                     [key], {});\n",
              "          if (!dataTable) return;\n",
              "\n",
              "          const docLinkHtml = 'Like what you see? Visit the ' +\n",
              "            '<a target=\"_blank\" href=https://colab.research.google.com/notebooks/data_table.ipynb>data table notebook</a>'\n",
              "            + ' to learn more about interactive tables.';\n",
              "          element.innerHTML = '';\n",
              "          dataTable['output_type'] = 'display_data';\n",
              "          await google.colab.output.renderOutput(dataTable, element);\n",
              "          const docLink = document.createElement('div');\n",
              "          docLink.innerHTML = docLinkHtml;\n",
              "          element.appendChild(docLink);\n",
              "        }\n",
              "      </script>\n",
              "    </div>\n",
              "  </div>\n",
              "  "
            ]
          },
          "metadata": {},
          "execution_count": 87
        }
      ],
      "source": [
        "anomalies.head()"
      ]
    }
  ],
  "metadata": {
    "accelerator": "GPU",
    "colab": {
      "provenance": []
    },
    "gpuClass": "standard",
    "kernelspec": {
      "display_name": "Python 3",
      "name": "python3"
    },
    "language_info": {
      "name": "python"
    }
  },
  "nbformat": 4,
  "nbformat_minor": 0
}